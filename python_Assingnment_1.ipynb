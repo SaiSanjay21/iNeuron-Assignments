{
  "nbformat": 4,
  "nbformat_minor": 0,
  "metadata": {
    "colab": {
      "name": "python_Assingnment_1.ipynb",
      "provenance": [],
      "collapsed_sections": []
    },
    "kernelspec": {
      "name": "python3",
      "display_name": "Python 3"
    },
    "language_info": {
      "name": "python"
    }
  },
  "cells": [
    {
      "cell_type": "markdown",
      "metadata": {
        "id": "pT7Y-N1BQ7D5"
      },
      "source": [
        "1. In the below elements which of them are values or an expression? eg:- values can be integer or string and expressions will be mathematical operators.\n",
        "*  -> Multiplication expression\n",
        "'hello'  -> string value\n",
        "-87.8 ->  float value\n",
        "-   ->subtraction  operator (expression)\n",
        "\n",
        "/   -> Division operator (expression)\n",
        "\n",
        "+ -> operator (expression)\n",
        "6  -> integer value\n"
      ]
    },
    {
      "cell_type": "markdown",
      "metadata": {
        "id": "PUDZ3BMrSJHR"
      },
      "source": [
        "2. What is the difference between string and variable?\n",
        "    \n",
        "    -> String is a datatype which represents the value in a variable.\n",
        "     \n",
        "    -> Variable is the memory which is created during programming for storing values of any         datatype."
      ]
    },
    {
      "cell_type": "markdown",
      "metadata": {
        "id": "rlmzfryrQ9Do"
      },
      "source": [
        "3. Describe three different data types.\n",
        " \n",
        "    -> String, Integer, Float"
      ]
    },
    {
      "cell_type": "markdown",
      "metadata": {
        "id": "EukqE1BBSpbM"
      },
      "source": [
        "4. What is an expression made up of? What do all expressions do? \n",
        "    \n",
        "    ->Expression is made up of values, variables and operators ,which results to a single value of different datatype or similar data type when compared with values used in expression\n",
        "  Ex : 2 +3 = 5\n",
        "\n"
      ]
    },
    {
      "cell_type": "markdown",
      "metadata": {
        "id": "2Jag4xt5aOyj"
      },
      "source": [
        "5. This assignment statements, like spam = 10. What is the difference between an expression and a statement?\n",
        "    \n",
        "    -> Expression results to a value ,but a statement does something like print statement which performs displaying things on console.\n"
      ]
    },
    {
      "cell_type": "markdown",
      "metadata": {
        "id": "px97mDxzaRrq"
      },
      "source": [
        "6. After running the following code, what does the variable bacon contain?\n",
        "  \n",
        "  ->bacon = 22  \n",
        "bacon + 1    \n",
        "bacon variable contains 22 as value, because the expression value is not assigned to bacon again.\n",
        "\n"
      ]
    },
    {
      "cell_type": "markdown",
      "metadata": {
        "id": "Fa3qBoSjaUsy"
      },
      "source": [
        "7. What should the values of the following two terms be?\n",
        "\n",
        " ->'spam' + 'spamspam'  -> ‘spamspamspam’\n",
        "  -> 'spam' * 3 -> ‘spamspamspam’\n",
        "\n"
      ]
    },
    {
      "cell_type": "markdown",
      "metadata": {
        "id": "c9_GzMOaaZC_"
      },
      "source": [
        "8. Why is eggs a valid variable name while 100 is invalid?\n",
        "      \n",
        "      -> variable names should not be started by numericals.\n"
      ]
    },
    {
      "cell_type": "markdown",
      "metadata": {
        "id": "Mf_IEwj0aa0V"
      },
      "source": [
        "9. What three functions can be used to get the integer, floating-point number, or string version of a value?\n",
        "    \n",
        "     ->Int(), float(),str()\n",
        "\n"
      ]
    },
    {
      "cell_type": "markdown",
      "metadata": {
        "id": "KjT3Edm0acj-"
      },
      "source": [
        "10. Why does this expression cause an error? How can you fix it?\n",
        "  'I have eaten ' + 99 + ' burritos.'\n",
        "   \n",
        "    • String can be concatenated using only + with only other string ,\n",
        "    \n",
        "    •  Correct expression is by casting the datatype from integer to string for 99 value\n",
        "   \n",
        "   'I have eaten ' +srt(99) + ' burritos.'"
      ]
    }
  ]
}