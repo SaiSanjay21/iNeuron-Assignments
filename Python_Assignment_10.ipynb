{
 "cells": [
  {
   "cell_type": "code",
   "execution_count": null,
   "id": "904ca77d",
   "metadata": {},
   "outputs": [],
   "source": [
    "1. How do you distinguish between shutil.copy() and shutil.copytree()?\n",
    "A. shutil.copy() will copy a single file, shutil.copytree() will copy an entire folder and every folder and file contained in it.\n",
    "\n",
    "2. What function is used to rename files?\n",
    "A. os. rename() method allows you to rename files.\n",
    "\n",
    "3. What is the difference between the delete functions in the send2trash and shutil modules?\n",
    "A. send2trash module is used send the files to trash on all platforms,where Shutil module in Python provides many functions of high-level operations on files and collections of files.\n",
    "\n",
    "4.ZipFile objects have a close() method just like File objects’ close() method. What ZipFile method is equivalent to File objects’ open() method?\n",
    "A. ZipFile constructor is used to open the any zipfile .\n"
   ]
  },
  {
   "cell_type": "code",
   "execution_count": null,
   "id": "4dab0913",
   "metadata": {},
   "outputs": [],
   "source": [
    "5. Create a programme that searches a folder tree for files with a certain file extension (such as .pdf or .jpg). Copy these files from whatever location they are in to a new folder.\n",
    "A. "
   ]
  },
  {
   "cell_type": "code",
   "execution_count": 10,
   "id": "d9dd828f",
   "metadata": {},
   "outputs": [
    {
     "data": {
      "text/plain": [
       "('C:\\\\Users\\\\saba0220\\\\Documents\\\\python', 'ASS')"
      ]
     },
     "execution_count": 10,
     "metadata": {},
     "output_type": "execute_result"
    }
   ],
   "source": [
    "import os\n",
    "import os.path as path\n",
    "def copyfiles(folder,extension,destdir):\n",
    "    \n",
    "    folder= os.path.abspath(folder)\n",
    "    destdir = os.path.abspath(destdir)\n",
    "    if os.path.isdir(folder) == True:\n",
    "        for filename,\n",
    "os.path.split('C:\\\\Users\\\\saba0220\\\\Documents\\\\python\\\\ASS')    \n",
    "    \n",
    "\n",
    "    \n",
    "          "
   ]
  }
 ],
 "metadata": {
  "kernelspec": {
   "display_name": "Python 3 (ipykernel)",
   "language": "python",
   "name": "python3"
  },
  "language_info": {
   "codemirror_mode": {
    "name": "ipython",
    "version": 3
   },
   "file_extension": ".py",
   "mimetype": "text/x-python",
   "name": "python",
   "nbconvert_exporter": "python",
   "pygments_lexer": "ipython3",
   "version": "3.8.10"
  }
 },
 "nbformat": 4,
 "nbformat_minor": 5
}
