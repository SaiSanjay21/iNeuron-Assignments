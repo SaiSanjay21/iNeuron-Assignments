{
  "nbformat": 4,
  "nbformat_minor": 0,
  "metadata": {
    "colab": {
      "name": "Untitled3.ipynb",
      "provenance": [],
      "collapsed_sections": []
    },
    "kernelspec": {
      "name": "python3",
      "display_name": "Python 3"
    },
    "language_info": {
      "name": "python"
    }
  },
  "cells": [
    {
      "cell_type": "markdown",
      "metadata": {
        "id": "uilk4jlVWTkG"
      },
      "source": [
        "1.What are the two values of the Boolean data type? How do you write them?\n",
        "  \n",
        "  -> False and True are the values of Boolean data type.\n",
        "2. What are the three different types of Boolean operators?\n",
        "  \n",
        "  -> AND , OR and NOT are the three types of Boolean operators.\n",
        "3. Make a list of each Boolean operator's truth tables (i.e. every possible combination of Boolean values for the operator and what it evaluate ).\n",
        "  \n",
        "  -> AND                       -> OR                       ->NOT\n",
        "\n",
        "A  B             A and B               A or B                      ~A\n",
        "\n",
        "1   1              1                        1                        0\n",
        "\n",
        "1   0              0                        1                        0\n",
        "\n",
        "0   1              0                        1                        1\n",
        "\n",
        "0    0             0                        0                        1\n",
        "\n",
        "4. What are the values of the following expressions?\n",
        "\n",
        " (5 > 4) and (3 == 5)  ->  False\n",
        " \n",
        " not (5 > 4)  -> Flase\n",
        " \n",
        " (5 > 4) or (3 == 5)  ->  True\n",
        "\n",
        " not ((5 > 4) or (3 == 5))  -> False\n",
        "\n",
        " (True and True) and (True == False)  -> False\n",
        "\n",
        " (not False) or (not True) -> True\n",
        "5. What are the six comparison operators?\n",
        "     \n",
        "      -> ==  Equal operator\n",
        "     \n",
        "      ->  != Not Equal operator\n",
        "     \n",
        "      ->  >  Greater than\n",
        "     \n",
        "      ->   <   Less than\n",
        "      \n",
        "      ->   >=  Greater than or equal to\n",
        "      \n",
        "      ->   <=   Less than or equal to\n",
        "6. How do you tell the difference between the equal to and assignment operators? Describe a condition and when you would use one.\n",
        "  \n",
        "   -> equal to operator has two equal sign and assignment operators has one equal signs\n",
        "    \n",
        "     Assignment operator :  this is used where you want to assign value to a variable.\n",
        "    \n",
        "    Equal operator : this is used where you want to compare two values or variables.\n",
        "7. Identify the three blocks in this code:\n",
        "spam = 0\n",
        "if spam == 10:\n",
        "      print('eggs')\n",
        "      if spam > 5:\n",
        "          print('bacon')\n",
        "      else:\n",
        "         print('ham')\n",
        "        print('spam')\n",
        "print('spam')\n",
        "\n",
        "ANSWER:\n",
        "  \n",
        "  print('eggs')\n",
        "      \n",
        "      if spam > 5:\n",
        "         \n",
        "          print('bacon')\n",
        "      \n",
        "      else:\n",
        "         \n",
        "         print('ham')\n",
        "       \n",
        "        print('spam')"
      ]
    },
    {
      "cell_type": "markdown",
      "metadata": {
        "id": "-lY34I05XxHh"
      },
      "source": [
        "8. Write code that prints Hello if 1 is stored in spam, prints Howdy if 2 is stored in spam, and prints Greetings! if anything else is stored in spam."
      ]
    },
    {
      "cell_type": "code",
      "metadata": {
        "colab": {
          "base_uri": "https://localhost:8080/"
        },
        "id": "vwiMrdiAXz7n",
        "outputId": "df8bdc06-9dd9-435a-ba7a-220abaa0c43c"
      },
      "source": [
        "Spam = int(input())\n",
        " \n",
        "if Spam == 1:\n",
        "  print(\"Hello\")\n",
        "elif Spam == 2:\n",
        "   print(\"Howdy\")\n",
        "else :\n",
        "   print(\"Greetings!\")"
      ],
      "execution_count": 6,
      "outputs": [
        {
          "output_type": "stream",
          "text": [
            "4\n",
            "Greetings!\n"
          ],
          "name": "stdout"
        }
      ]
    },
    {
      "cell_type": "markdown",
      "metadata": {
        "id": "BtojQKV-YZJu"
      },
      "source": [
        "9.If your programme is stuck in an endless loop, what keys you’ll press?\n",
        "    \n",
        "    Ctrl+C\n",
        "\n",
        "10. How can you tell the difference between break and continue?\n",
        "     Break statement is used to exit the current loop\n",
        "      \n",
        "    Continue statement is used to skip a step in the current loop\n",
        "11. In a for loop, what is the difference between range(10), range(0, 10), and range(0, 10, 1)?\n",
        "     \n",
        "     -> range(10) – gives numerical output sequence from 0 to 9\n",
        "     \n",
        "     ->  range(0, 10) -- gives numerical output sequence from 0 to 9\n",
        "     \n",
        "     ->  range(0, 10, 1) -- gives numerical output sequence from 0 to 9 ,the third parameter represent increment of numericals in the sequence."
      ]
    },
    {
      "cell_type": "markdown",
      "metadata": {
        "id": "n8Z37SLXYtMI"
      },
      "source": [
        "12. Write a short program that prints the numbers 1 to 10 using a for loop. Then write an equivalent program that prints the numbers 1 to 10 using a while loop."
      ]
    },
    {
      "cell_type": "code",
      "metadata": {
        "colab": {
          "base_uri": "https://localhost:8080/"
        },
        "id": "i-nxN9_6Yvag",
        "outputId": "8d400ef5-6f76-4a34-8201-7231cdd24232"
      },
      "source": [
        "for i in range(1,11) :\n",
        "       print(i)\n",
        "    "
      ],
      "execution_count": 9,
      "outputs": [
        {
          "output_type": "stream",
          "text": [
            "1\n",
            "2\n",
            "3\n",
            "4\n",
            "5\n",
            "6\n",
            "7\n",
            "8\n",
            "9\n",
            "10\n"
          ],
          "name": "stdout"
        }
      ]
    },
    {
      "cell_type": "code",
      "metadata": {
        "colab": {
          "base_uri": "https://localhost:8080/"
        },
        "id": "0yT8lQcpY3fZ",
        "outputId": "c17ecc3a-a296-46a5-a37c-ba954852e25f"
      },
      "source": [
        "i = 1\n",
        "while i<= 10:\n",
        "  print(i)\n",
        "  i = i + 1"
      ],
      "execution_count": 13,
      "outputs": [
        {
          "output_type": "stream",
          "text": [
            "1\n",
            "2\n",
            "3\n",
            "4\n",
            "5\n",
            "6\n",
            "7\n",
            "8\n",
            "9\n",
            "10\n"
          ],
          "name": "stdout"
        }
      ]
    },
    {
      "cell_type": "markdown",
      "metadata": {
        "id": "yE7vn2JjZLeo"
      },
      "source": [
        "13. If you had a function named bacon() inside a module named spam, how would you call it after importing spam?\n",
        "         \n",
        "         Spam.bacon()"
      ]
    }
  ]
}